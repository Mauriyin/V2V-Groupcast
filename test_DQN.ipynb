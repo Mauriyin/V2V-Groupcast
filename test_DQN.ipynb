{
 "cells": [
  {
   "cell_type": "code",
   "execution_count": null,
   "metadata": {},
   "outputs": [],
   "source": [
    "import numpy as np\n",
    "import pandas as pd \n",
    "import matplotlib.pyplot as plt\n",
    "\n",
    "from tool.data_loader import load_data\n",
    "from model.DQN import DQN\n",
    "from model.environment import ENVIRONMENT"
   ]
  },
  {
   "cell_type": "markdown",
   "metadata": {},
   "source": [
    "### Init Parameters"
   ]
  },
  {
   "cell_type": "code",
   "execution_count": null,
   "metadata": {
    "scrolled": true
   },
   "outputs": [],
   "source": [
    "leader_csv = \"./data/leader_density200_p1.csv\"\n",
    "member_csv = \"./data/member_density200_p1.csv\"\n",
    "\n",
    "rb_leader, rb_member = load_data(leader_csv, member_csv)\n",
    "rb_hidden = rb_member\n",
    "\n",
    "env = ENVIRONMENT(\n",
    "                n_actions = 200,\n",
    "                rb_leader = rb_leader,\n",
    "                rb_member = rb_member,\n",
    "                rb_hidden = rb_hidden,\n",
    "                state_size=32, \n",
    "                window_size=7,\n",
    "                )\n",
    "\n",
    "dqn_agent = DQN(env.state_size,\n",
    "                env.n_actions,  \n",
    "                loss_val = loss_val,\n",
    "                memory_size=1000,\n",
    "                replace_target_iter=200,\n",
    "                batch_size=1,\n",
    "                learning_rate=0.01,\n",
    "                gamma=0.9,\n",
    "                epsilon=0.1,\n",
    "                epsilon_min=0,\n",
    "                epsilon_decay=0.5,\n",
    "                )\n",
    "\n",
    "counter = 0\n",
    "total_reward = 0\n",
    "collision_num = 0\n",
    "prob_collision = []\n",
    "state = env.reset()\n",
    "state_size = len(state)\n"
   ]
  },
  {
   "cell_type": "markdown",
   "metadata": {},
   "source": [
    "### Online Training and Testing"
   ]
  },
  {
   "cell_type": "code",
   "execution_count": null,
   "metadata": {},
   "outputs": [],
   "source": [
    "print('------------------------------------------')\n",
    "print('---------- Start processing ... ----------')\n",
    "print('------------------------------------------')\n",
    "\n",
    "\n",
    "for time in range(int(state_size/2), (len(rb_member))):\n",
    "    action_index = np.where(rb_leader[time] == 0)\n",
    "    action_index = np.reshape(action_index, len(action_index[0]))\n",
    "    action = dqn_agent.choose_action(state, action_index)\n",
    "\n",
    "    observation_, reward = env.step(action, time)\n",
    "    if observation_ > 0:\n",
    "        collision_num +=1 \n",
    "        prob_collision.append(collision_num/(time+1))\n",
    "    total_reward += reward\n",
    "\n",
    "    next_state = np.concatenate([state[2:], [action, observation_]])\n",
    "\n",
    "    dqn_agent.store_transition(state, action, reward, next_state)\n",
    "    if counter < 200:\n",
    "        dqn_agent.learn()       # internally iterates default (prediction) model\n",
    "        counter += 1\n",
    "    elif counter < 250:\n",
    "        counter += 1\n",
    "    else:\n",
    "        counter = 0\n",
    "    state = next_state\n",
    "    print(\"Step:{0}%, action:{1}, reward:{2}\".format(round((time + 1) * 100 / len(rb_member)), action, reward), end=\"\\r\")"
   ]
  }
 ],
 "metadata": {
  "kernelspec": {
   "display_name": "Python 3",
   "language": "python",
   "name": "python3"
  },
  "language_info": {
   "codemirror_mode": {
    "name": "ipython",
    "version": 3
   },
   "file_extension": ".py",
   "mimetype": "text/x-python",
   "name": "python",
   "nbconvert_exporter": "python",
   "pygments_lexer": "ipython3",
   "version": "3.7.5"
  }
 },
 "nbformat": 4,
 "nbformat_minor": 2
}
